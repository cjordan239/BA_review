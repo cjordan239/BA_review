{
 "cells": [
  {
   "cell_type": "code",
   "execution_count": 1,
   "id": "4cb8fa1a",
   "metadata": {},
   "outputs": [
    {
     "name": "stderr",
     "output_type": "stream",
     "text": [
      "[nltk_data] Downloading package wordnet to\n",
      "[nltk_data]     C:\\Users\\User\\AppData\\Roaming\\nltk_data...\n",
      "[nltk_data]   Package wordnet is already up-to-date!\n"
     ]
    },
    {
     "data": {
      "text/plain": [
       "True"
      ]
     },
     "execution_count": 1,
     "metadata": {},
     "output_type": "execute_result"
    }
   ],
   "source": [
    "import requests\n",
    "from bs4 import BeautifulSoup\n",
    "import pandas as pd\n",
    "import os\n",
    "import re\n",
    "from collections import Counter\n",
    "from nltk.corpus import stopwords\n",
    "from wordcloud import WordCloud\n",
    "import matplotlib.pyplot as plt\n",
    "from nltk.sentiment import SentimentIntensityAnalyzer\n",
    "from gensim import corpora\n",
    "from gensim.models import LdaModel\n",
    "from nltk.tokenize import word_tokenize\n",
    "import nltk\n",
    "from collections import defaultdict\n",
    "from nltk.stem import WordNetLemmatizer\n",
    "\n",
    "df = pd.read_csv(\"cleaned_reviews.csv\")\n",
    "nltk.download(\"wordnet\")\n",
    "\n",
    "\n",
    "\n",
    "\n",
    "\n",
    "\n",
    "\n",
    "\n",
    "\n",
    "\n",
    "\n",
    "\n",
    "\n",
    "\n",
    "\n",
    "\n",
    "\n",
    "\n",
    "\n"
   ]
  },
  {
   "cell_type": "code",
   "execution_count": null,
   "id": "a7eed1f6",
   "metadata": {},
   "outputs": [],
   "source": [
    "base_url = \"https://www.airlinequality.com/airline-reviews/british-airways\"\n",
    "pages = 10\n",
    "page_size = 100\n",
    "reviews = []\n",
    "\n",
    "for i in range(1, pages + 1):\n",
    "    print(f\"Scraping page {i}\")\n",
    "    url = f\"{base_url}/page/{i}/?sortby=post_date%3ADesc&pagesize={page_size}\"\n",
    "    response = requests.get(url)\n",
    "    content = response.content\n",
    "    parsed_content = BeautifulSoup(content, 'html.parser')\n",
    "    \n",
    "    for para in parsed_content.find_all(\"div\", {\"class\": \"text_content\"}):\n",
    "        reviews.append(para.get_text())\n",
    "    print(f\"   ---> {len(reviews)} total reviews\")\n"
   ]
  },
  {
   "cell_type": "code",
   "execution_count": null,
   "id": "ee3c2d8e",
   "metadata": {},
   "outputs": [],
   "source": [
    "\n",
    "df = pd.DataFrame()\n",
    "df[\"reviews\"] = reviews\n",
    "\n",
    "df = df[df['reviews'].notnull()]\n",
    "\n",
    "\n",
    "df['reviews'] = df['reviews'].str.strip()\n",
    "df['reviews'] = df['reviews'].apply(lambda x: re.sub(r'[^a-zA-Z0-9\\s]', '', x))\n",
    "\n",
    "df[\"reviews\"] = df[\"reviews\"].str.replace(r\"(trip verified|not verified)\", \"\", flags=re.IGNORECASE, regex=True).str.strip()\n",
    "df['reviews'] = df['reviews'].str.lower()\n",
    "df = df.drop_duplicates()\n",
    "\n",
    "\n",
    "print(df.head())  \n",
    "\n"
   ]
  },
  {
   "cell_type": "code",
   "execution_count": null,
   "id": "82cf76b3",
   "metadata": {},
   "outputs": [],
   "source": [
    "stop_words = set(stopwords.words(\"english\"))\n",
    "all_text = \" \".join(df[\"reviews\"].tolist()).split()\n",
    "additional_stopwords = {\"verified\", \"ba\", \"trip\", \"us\", \"london\", \"airways\", \"would\", \"get\",\"good\",\"told\",\"even\",\"flights\",\"could\",\"one\", \"flight\"}\n",
    "stop_words.update(additional_stopwords)\n",
    "filtered_words = [word for word in all_text if word.lower() not in stop_words]\n",
    "freq_word = Counter(filtered_words)\n",
    "\n",
    "top_20_word = dict(freq_word.most_common(20))\n",
    "\n",
    "words = list(top_20_word.keys()) \n",
    "frequencies = list(top_20_word.values()) \n",
    "\n",
    "\n",
    "wordcloud = WordCloud(width=800, height=400, background_color='white').generate_from_frequencies(top_20_word)\n",
    "plt.figure(figsize=(50, 5))\n",
    "plt.imshow(wordcloud, interpolation='bilinear') \n",
    "plt.axis('off')  \n",
    "plt.title(\"top 20 Word Cloud of Frequent Words\")  \n",
    "plt.show()  \n",
    "\n",
    "print(freq_word)\n",
    "print(type(freq_word))\n",
    "\n"
   ]
  },
  {
   "cell_type": "code",
   "execution_count": 27,
   "id": "9538705f",
   "metadata": {},
   "outputs": [
    {
     "name": "stderr",
     "output_type": "stream",
     "text": [
      "[nltk_data] Downloading package vader_lexicon to\n",
      "[nltk_data]     C:\\Users\\User\\AppData\\Roaming\\nltk_data...\n",
      "[nltk_data]   Package vader_lexicon is already up-to-date!\n"
     ]
    },
    {
     "data": {
      "image/png": "[encoded data removed]",
      "text/plain": [
       "<Figure size 640x480 with 1 Axes>"
      ]
     },
     "metadata": {},
     "output_type": "display_data"
    },
    {
     "name": "stdout",
     "output_type": "stream",
     "text": [
      "0      positive\n",
      "1      positive\n",
      "2      negative\n",
      "3      negative\n",
      "4      positive\n",
      "         ...   \n",
      "995    negative\n",
      "996    positive\n",
      "997    negative\n",
      "998    negative\n",
      "999    positive\n",
      "Name: sentiment_label, Length: 1000, dtype: object\n"
     ]
    }
   ],
   "source": [
    "nltk.download(\"vader_lexicon\")\n",
    "sia = SentimentIntensityAnalyzer()\n",
    "\n",
    "def get_sentiment(text):\n",
    "    return sia.polarity_scores(text)[\"compound\"]\n",
    "\n",
    "\n",
    "def label_sentiment(score):\n",
    "    if score > 0.1:\n",
    "        return \"Positive\"\n",
    "    elif score < -0.1:\n",
    "        return \"Negative\"\n",
    "    else:\n",
    "        return \"Neutral\"\n",
    "\n",
    "\n",
    "df[\"sentiment\"] = df[\"reviews\"].apply(get_sentiment)\n",
    "\n",
    "df[\"sentiment_label\"] = df[\"sentiment\"].apply(label_sentiment).str.lower()\n",
    "\n",
    "# Hitung distribusi sentiment\n",
    "sentiment_counts = df[\"sentiment_label\"].value_counts()\n",
    "\n",
    "# Plot pie chart\n",
    "plt.pie(sentiment_counts, labels=sentiment_counts.index, autopct='%1.1f%%', startangle=90)\n",
    "centre_circle = plt.Circle((0,0),0.70,fc='white')\n",
    "fig = plt.gcf()\n",
    "fig.gca().add_artist(centre_circle)\n",
    "plt.title(\"Sentiment Distribution\")\n",
    "plt.axis('equal')\n",
    "plt.show()\n",
    "\n",
    "print(df[\"sentiment_label\"] )\n",
    "\n",
    "\n",
    "\n",
    "\n",
    "\n"
   ]
  },
  {
   "cell_type": "code",
   "execution_count": 5,
   "id": "344d37fd",
   "metadata": {},
   "outputs": [
    {
     "name": "stdout",
     "output_type": "stream",
     "text": [
      "(0, '0.012*\"service\" + 0.012*\"airline\" + 0.012*\"customer\" + 0.009*\"british\" + 0.008*\"time\"')\n",
      "(1, '0.008*\"service\" + 0.008*\"luggage\" + 0.007*\"seat\" + 0.007*\"hour\" + 0.007*\"staff\"')\n",
      "(2, '0.016*\"crew\" + 0.015*\"seat\" + 0.014*\"food\" + 0.013*\"cabin\" + 0.012*\"service\"')\n",
      "(3, '0.014*\"hour\" + 0.013*\"seat\" + 0.009*\"time\" + 0.009*\"service\" + 0.008*\"airline\"')\n",
      "(4, '0.010*\"customer\" + 0.010*\"day\" + 0.010*\"call\" + 0.009*\"ticket\" + 0.008*\"booking\"')\n"
     ]
    }
   ],
   "source": [
    "stop_words = set(stopwords.words(\"english\"))\n",
    "additional_stopwords = {\n",
    "    \"verified\", \"ba\", \"trip\", \"us\", \"london\", \"airways\", \"would\", \"get\",\n",
    "    \"good\", \"told\", \"even\", \"flights\", \"could\", \"one\", \"flight\"\n",
    "}\n",
    "stop_words.update(additional_stopwords) \n",
    "lemmatizer = WordNetLemmatizer()\n",
    "all_reviews = df['reviews'].tolist()  \n",
    "\n",
    "processed_reviews = []\n",
    "for review in all_reviews:\n",
    "    tokens = word_tokenize(review.lower())  \n",
    "    filtered_tokens = [lemmatizer.lemmatize(word) for word in tokens if word not in stop_words and word.isalpha()]\n",
    "    processed_reviews.append(filtered_tokens)\n",
    "\n",
    "  \n",
    "# print(filtered_tokens)\n",
    "\n",
    "dictionary = corpora.Dictionary(processed_reviews)\n",
    "\n",
    "corpus = [dictionary.doc2bow(review) for review in processed_reviews]\n",
    "\n",
    "# print(corpus)\n",
    "# print(type(dictionary))\n",
    "\n",
    "lda = LdaModel(corpus, num_topics=5, id2word=dictionary, passes=15, random_state=2)\n",
    "\n",
    "topics = lda.print_topics(num_words=5)  \n",
    "for topic in topics:\n",
    "    print(topic)\n"
   ]
  },
  {
   "cell_type": "code",
   "execution_count": 6,
   "id": "76cc434c",
   "metadata": {},
   "outputs": [
    {
     "name": "stdout",
     "output_type": "stream",
     "text": [
      "Counter({2: 305, 3: 296, 0: 170, 1: 131, 4: 98})\n"
     ]
    }
   ],
   "source": [
    "top_topic_freq = Counter()\n",
    "\n",
    "for bow in corpus:\n",
    "    topics = lda.get_document_topics(bow)\n",
    "    top_topic = max(topics, key=lambda x: x[1])[0]\n",
    "    top_topic_freq[top_topic] += 1\n",
    "\n",
    "print(top_topic_freq)"
   ]
  },
  {
   "cell_type": "code",
   "execution_count": 50,
   "id": "940d8904",
   "metadata": {},
   "outputs": [
    {
     "name": "stdout",
     "output_type": "stream",
     "text": [
      "Topic 0: {'positive': 277, 'neutral': 9, 'negative': 143}\n",
      "Topic 4: {'positive': 48, 'neutral': 10, 'negative': 126}\n",
      "Topic 2: {'positive': 46, 'neutral': 6, 'negative': 126}\n",
      "Topic 3: {'positive': 52, 'neutral': 3, 'negative': 40}\n",
      "Topic 1: {'positive': 35, 'neutral': 5, 'negative': 74}\n"
     ]
    }
   ],
   "source": [
    "topic_sentiment_count = defaultdict(lambda: {'positive': 0, 'neutral': 0, 'negative': 0})\n",
    "\n",
    "\n",
    "for i, bow in enumerate(corpus):\n",
    "    sentiment = df.loc[i, 'sentiment_label']\n",
    "    topics = lda.get_document_topics(bow)\n",
    "    top_topic = max(topics, key=lambda x: x[1])[0]\n",
    "    topic_sentiment_count[top_topic][sentiment] += 1\n",
    "\n",
    "\n",
    "for topic, sentiment_counts in topic_sentiment_count.items():\n",
    "    print(f\"Topic {topic}: {sentiment_counts}\")"
   ]
  },
  {
   "cell_type": "code",
   "execution_count": null,
   "id": "92ee376b",
   "metadata": {},
   "outputs": [],
   "source": [
    "# df.to_csv('cleaned_reviews.csv', index=True)\n"
   ]
  },
  {
   "cell_type": "markdown",
   "id": "6bd32879",
   "metadata": {},
   "source": []
  }
 ],
 "metadata": {
  "kernelspec": {
   "display_name": "venv",
   "language": "python",
   "name": "python3"
  },
  "language_info": {
   "codemirror_mode": {
    "name": "ipython",
    "version": 3
   },
   "file_extension": ".py",
   "mimetype": "text/x-python",
   "name": "python",
   "nbconvert_exporter": "python",
   "pygments_lexer": "ipython3",
   "version": "3.10.0"
  }
 },
 "nbformat": 4,
 "nbformat_minor": 5
}
